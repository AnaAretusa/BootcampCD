{
  "nbformat": 4,
  "nbformat_minor": 0,
  "metadata": {
    "colab": {
      "provenance": [],
      "authorship_tag": "ABX9TyOsTCGMja3sps7Ux7CAdfxR",
      "include_colab_link": true
    },
    "kernelspec": {
      "name": "python3",
      "display_name": "Python 3"
    },
    "language_info": {
      "name": "python"
    }
  },
  "cells": [
    {
      "cell_type": "markdown",
      "metadata": {
        "id": "view-in-github",
        "colab_type": "text"
      },
      "source": [
        "<a href=\"https://colab.research.google.com/github/AnaAretusa/BootcampCD/blob/Modulo2/DesafioM2.ipynb\" target=\"_parent\"><img src=\"https://colab.research.google.com/assets/colab-badge.svg\" alt=\"Open In Colab\"/></a>"
      ]
    },
    {
      "cell_type": "code",
      "execution_count": 1,
      "metadata": {
        "colab": {
          "base_uri": "https://localhost:8080/"
        },
        "id": "jL60g9-y6cV1",
        "outputId": "e679d06e-adc5-4b7c-f949-d48b96311b9d"
      },
      "outputs": [
        {
          "output_type": "stream",
          "name": "stdout",
          "text": [
            "Looking in indexes: https://pypi.org/simple, https://us-python.pkg.dev/colab-wheels/public/simple/\n",
            "Collecting pyspark\n",
            "  Downloading pyspark-3.3.1.tar.gz (281.4 MB)\n",
            "\u001b[K     |████████████████████████████████| 281.4 MB 51 kB/s \n",
            "\u001b[?25hCollecting py4j==0.10.9.5\n",
            "  Downloading py4j-0.10.9.5-py2.py3-none-any.whl (199 kB)\n",
            "\u001b[K     |████████████████████████████████| 199 kB 71.3 MB/s \n",
            "\u001b[?25hBuilding wheels for collected packages: pyspark\n",
            "  Building wheel for pyspark (setup.py) ... \u001b[?25l\u001b[?25hdone\n",
            "  Created wheel for pyspark: filename=pyspark-3.3.1-py2.py3-none-any.whl size=281845512 sha256=3812b8fb24508453ad6d4ab745539c53e4dbac78d8067115b86c3cf61d303f6c\n",
            "  Stored in directory: /root/.cache/pip/wheels/43/dc/11/ec201cd671da62fa9c5cc77078235e40722170ceba231d7598\n",
            "Successfully built pyspark\n",
            "Installing collected packages: py4j, pyspark\n",
            "Successfully installed py4j-0.10.9.5 pyspark-3.3.1\n"
          ]
        }
      ],
      "source": [
        "pip install pyspark"
      ]
    },
    {
      "cell_type": "code",
      "source": [
        "from pyspark.sql import SparkSession\n",
        "from pyspark.sql import functions as f\n",
        "from pyspark.sql.functions import *"
      ],
      "metadata": {
        "id": "gX76nHiZ6lmy"
      },
      "execution_count": 9,
      "outputs": []
    },
    {
      "cell_type": "code",
      "source": [
        "spark = SparkSession.builder.getOrCreate()"
      ],
      "metadata": {
        "id": "3bqIVrYx7AM9"
      },
      "execution_count": 10,
      "outputs": []
    },
    {
      "cell_type": "markdown",
      "source": [
        "Importando a base"
      ],
      "metadata": {
        "id": "G9ZX56288yUD"
      }
    },
    {
      "cell_type": "code",
      "source": [
        "df = (spark.read\n",
        "      .format(\"csv\")\n",
        "      .option(\"header\", \"True\")\n",
        "      .option(\"inferSchema\", \"True\")\n",
        "      .load(\"/content/stroke_data.csv\")\n",
        ")"
      ],
      "metadata": {
        "id": "xLOd15Md8tYL"
      },
      "execution_count": 11,
      "outputs": []
    },
    {
      "cell_type": "code",
      "source": [
        "df.show(5)"
      ],
      "metadata": {
        "colab": {
          "base_uri": "https://localhost:8080/"
        },
        "id": "H9v2E4CZ9Qwx",
        "outputId": "14be7635-5eae-4c52-f064-a7903ec13be2"
      },
      "execution_count": 8,
      "outputs": [
        {
          "output_type": "stream",
          "name": "stdout",
          "text": [
            "+---+------+----+------------+-------------+------------+-------------+--------------+-----------------+-----+---------------+------+\n",
            "|  0|gender| age|hypertension|heart_disease|ever_married|    work_type|Residence_type|avg_glucose_level|  bmi| smoking_status|stroke|\n",
            "+---+------+----+------------+-------------+------------+-------------+--------------+-----------------+-----+---------------+------+\n",
            "|  1|Female|18.0|           0|            0|          No|      Private|         Urban|            94.19|12.12|         smokes|     1|\n",
            "|  2|  Male|58.0|           1|            0|         Yes|      Private|         Rural|           154.24| 33.7|   never_smoked|     0|\n",
            "|  3|Female|36.0|           0|            0|         Yes|     Govt_job|         Urban|            72.63| 24.7|         smokes|     0|\n",
            "|  4|Female|62.0|           0|            0|         Yes|Self-employed|         Rural|            85.52| 31.2|formerly smoked|     0|\n",
            "|  5|Female|82.0|           0|            0|         Yes|      Private|         Rural|            59.32| 33.2|         smokes|     1|\n",
            "+---+------+----+------------+-------------+------------+-------------+--------------+-----------------+-----+---------------+------+\n",
            "only showing top 5 rows\n",
            "\n"
          ]
        }
      ]
    },
    {
      "cell_type": "markdown",
      "source": [
        "##Pergunta 1\n",
        "Quantos registros existem no arquivo?"
      ],
      "metadata": {
        "id": "-InLjgJZ_JHg"
      }
    },
    {
      "cell_type": "code",
      "source": [
        "df.count()"
      ],
      "metadata": {
        "colab": {
          "base_uri": "https://localhost:8080/"
        },
        "id": "RTaUjefD9v5l",
        "outputId": "bd9beaad-8c6e-42ad-cdfc-a4a8dc5bdea7"
      },
      "execution_count": 9,
      "outputs": [
        {
          "output_type": "execute_result",
          "data": {
            "text/plain": [
              "67135"
            ]
          },
          "metadata": {},
          "execution_count": 9
        }
      ]
    },
    {
      "cell_type": "markdown",
      "source": [
        "##Pergunta 2\n",
        "Quantas colunas existem no arquivo? Quantas são numéricas? Ao ler o arquivo com spark.read.csv, habilite inferSchema=True. Use a função printSchema() da API de Dataframes."
      ],
      "metadata": {
        "id": "otNlPyVT_TOQ"
      }
    },
    {
      "cell_type": "code",
      "source": [
        "  df.printSchema()"
      ],
      "metadata": {
        "colab": {
          "base_uri": "https://localhost:8080/"
        },
        "id": "wwV5-Q0b_Mdg",
        "outputId": "ff691abb-4782-46d8-c546-e04f7ba82cd0"
      },
      "execution_count": 10,
      "outputs": [
        {
          "output_type": "stream",
          "name": "stdout",
          "text": [
            "root\n",
            " |-- 0: integer (nullable = true)\n",
            " |-- gender: string (nullable = true)\n",
            " |-- age: double (nullable = true)\n",
            " |-- hypertension: integer (nullable = true)\n",
            " |-- heart_disease: integer (nullable = true)\n",
            " |-- ever_married: string (nullable = true)\n",
            " |-- work_type: string (nullable = true)\n",
            " |-- Residence_type: string (nullable = true)\n",
            " |-- avg_glucose_level: double (nullable = true)\n",
            " |-- bmi: double (nullable = true)\n",
            " |-- smoking_status: string (nullable = true)\n",
            " |-- stroke: integer (nullable = true)\n",
            "\n"
          ]
        }
      ]
    },
    {
      "cell_type": "code",
      "source": [
        "df.describe"
      ],
      "metadata": {
        "colab": {
          "base_uri": "https://localhost:8080/"
        },
        "id": "z926GLkg_fMg",
        "outputId": "7231fcec-765c-4b34-b4e5-75c826a6f49f"
      },
      "execution_count": 13,
      "outputs": [
        {
          "output_type": "execute_result",
          "data": {
            "text/plain": [
              "<bound method DataFrame.describe of DataFrame[0: int, gender: string, age: double, hypertension: int, heart_disease: int, ever_married: string, work_type: string, Residence_type: string, avg_glucose_level: double, bmi: double, smoking_status: string, stroke: int]>"
            ]
          },
          "metadata": {},
          "execution_count": 13
        }
      ]
    },
    {
      "cell_type": "markdown",
      "source": [
        "##Pergunta 3\n",
        "No conjunto de dados, quantos pacientes sofreram e não sofreram derrame (stroke), respectivamente?"
      ],
      "metadata": {
        "id": "Apmq9C4YAhrp"
      }
    },
    {
      "cell_type": "code",
      "source": [
        "df.groupby(\"stroke\").count().show()"
      ],
      "metadata": {
        "colab": {
          "base_uri": "https://localhost:8080/"
        },
        "id": "7FMjFk75_l2J",
        "outputId": "80cf4445-47c3-42db-f1a8-249b9b6b93ec"
      },
      "execution_count": 14,
      "outputs": [
        {
          "output_type": "stream",
          "name": "stdout",
          "text": [
            "+------+-----+\n",
            "|stroke|count|\n",
            "+------+-----+\n",
            "|     1|40287|\n",
            "|     0|26848|\n",
            "+------+-----+\n",
            "\n"
          ]
        }
      ]
    },
    {
      "cell_type": "markdown",
      "source": [
        "##Pergunta 4\n",
        "A partir do dataframe, crie uma tabela temporária usando df.createOrReplaceTempView('table') e a seguir use spark.sql para escrever uma consulta SQL que obtenha quantos pacientes tiveram derrame por tipo de trabalho (work_type). Quantos pacientes sofreram derrame e trabalhavam respectivamente, no setor privado, de forma independente, no governo e quantas são crianças?"
      ],
      "metadata": {
        "id": "OOQYH886A9f8"
      }
    },
    {
      "cell_type": "code",
      "source": [
        "df.createTempView('temp')"
      ],
      "metadata": {
        "id": "6RQrVcZ_GDVb"
      },
      "execution_count": 121,
      "outputs": []
    },
    {
      "cell_type": "code",
      "source": [
        "spark.sql(\"SELECT work_type, count(*) FROM temp WHERE stroke =1 GROUP BY work_type\").show()"
      ],
      "metadata": {
        "colab": {
          "base_uri": "https://localhost:8080/"
        },
        "id": "1owo5WS-GOuK",
        "outputId": "b161cfb5-6943-4585-a721-3be43a9bb57c"
      },
      "execution_count": 22,
      "outputs": [
        {
          "output_type": "stream",
          "name": "stdout",
          "text": [
            "+-------------+--------+\n",
            "|    work_type|count(1)|\n",
            "+-------------+--------+\n",
            "| Never_worked|      85|\n",
            "|Self-employed|   10807|\n",
            "|      Private|   23711|\n",
            "|     children|     520|\n",
            "|     Govt_job|    5164|\n",
            "+-------------+--------+\n",
            "\n"
          ]
        }
      ]
    },
    {
      "cell_type": "markdown",
      "source": [
        "##Pergunta 5\n",
        "Escreva uma consulta com spark.sql para determinar a proporção, por gênero, de participantes do estudo. A maioria dos participantes é:"
      ],
      "metadata": {
        "id": "ZAK_CXsUEm4W"
      }
    },
    {
      "cell_type": "code",
      "source": [
        "spark.sql(\"SELECT gender, count(*) FROM temp GROUP BY gender\").show()"
      ],
      "metadata": {
        "colab": {
          "base_uri": "https://localhost:8080/"
        },
        "id": "7Ms2EXEGAwTN",
        "outputId": "361d96df-d40b-443d-fb2b-a6337ac8e44c"
      },
      "execution_count": 25,
      "outputs": [
        {
          "output_type": "stream",
          "name": "stdout",
          "text": [
            "+------+--------+\n",
            "|gender|count(1)|\n",
            "+------+--------+\n",
            "|Female|   39530|\n",
            "| Other|      11|\n",
            "|  Male|   27594|\n",
            "+------+--------+\n",
            "\n"
          ]
        }
      ]
    },
    {
      "cell_type": "markdown",
      "source": [
        "##Pergunta 6\n",
        "Escreva uma consulta com spark.sql para determinar quem tem mais probabilidade de sofrer derrame: hipertensos ou não-hipertensos. Você pode escrever uma consulta para cada grupo. A partir das probabilidades que você obteve, você conclui que:"
      ],
      "metadata": {
        "id": "4Q1Z1z27Er3R"
      }
    },
    {
      "cell_type": "code",
      "source": [
        "spark.sql(\"SELECT hypertension, count(*) FROM temp WHERE stroke =1 GROUP BY hypertension\").show()"
      ],
      "metadata": {
        "colab": {
          "base_uri": "https://localhost:8080/"
        },
        "id": "TTiHaWV5a_gF",
        "outputId": "6feb1624-c9ef-4055-ba98-cc71f1f5e085"
      },
      "execution_count": 129,
      "outputs": [
        {
          "output_type": "stream",
          "name": "stdout",
          "text": [
            "+------------+--------+\n",
            "|hypertension|count(1)|\n",
            "+------------+--------+\n",
            "|           1|    8817|\n",
            "|           0|   31470|\n",
            "+------------+--------+\n",
            "\n"
          ]
        }
      ]
    },
    {
      "cell_type": "markdown",
      "source": [
        "##Pergunta 7\n",
        "Escreva uma consulta com spark.sql que determine o número de pessoas que sofreram derrame por idade. Com qual idade o maior número de pessoas do conjunto de dados sofreu derrame?"
      ],
      "metadata": {
        "id": "EghXkUq2FA0f"
      }
    },
    {
      "cell_type": "code",
      "source": [
        "spark.sql(\"SELECT age, count(*) FROM temp GROUP BY age ORDER BY count(*) DESC\").show()"
      ],
      "metadata": {
        "colab": {
          "base_uri": "https://localhost:8080/"
        },
        "id": "PAZ1teUBzKnT",
        "outputId": "d26cb8be-6bf0-4cca-f8bf-d83696654454"
      },
      "execution_count": 42,
      "outputs": [
        {
          "output_type": "stream",
          "name": "stdout",
          "text": [
            "+----+--------+\n",
            "| age|count(1)|\n",
            "+----+--------+\n",
            "|79.0|    3258|\n",
            "|78.0|    2672|\n",
            "|80.0|    2141|\n",
            "|81.0|    2005|\n",
            "|82.0|    1657|\n",
            "|63.0|    1294|\n",
            "|66.0|    1195|\n",
            "|77.0|    1190|\n",
            "|74.0|    1184|\n",
            "|57.0|    1160|\n",
            "|70.0|    1151|\n",
            "|76.0|    1088|\n",
            "|67.0|    1070|\n",
            "|51.0|    1067|\n",
            "|65.0|    1046|\n",
            "|75.0|    1015|\n",
            "|52.0|    1003|\n",
            "|58.0|     999|\n",
            "|59.0|     994|\n",
            "|61.0|     988|\n",
            "+----+--------+\n",
            "only showing top 20 rows\n",
            "\n"
          ]
        }
      ]
    },
    {
      "cell_type": "markdown",
      "source": [
        "##Pergunta 8\n",
        "Usando a API de dataframes, determine quantas pessoas sofreram derrames após os 50 anos."
      ],
      "metadata": {
        "id": "eE1zo5sc09eP"
      }
    },
    {
      "cell_type": "code",
      "source": [
        "df.filter(df.age>50).filter(df.stroke ==1).count()"
      ],
      "metadata": {
        "colab": {
          "base_uri": "https://localhost:8080/"
        },
        "id": "RfXoKc6E0N6k",
        "outputId": "d3f2c6aa-f35c-4464-e13d-25bcafe7f3b8"
      },
      "execution_count": 53,
      "outputs": [
        {
          "output_type": "execute_result",
          "data": {
            "text/plain": [
              "28938"
            ]
          },
          "metadata": {},
          "execution_count": 53
        }
      ]
    },
    {
      "cell_type": "markdown",
      "source": [
        "##Pergunta 9\n",
        "Usando spark.sql, determine qual o nível médio de glicose para pessoas que, respectivamente, sofreram e não sofreram derrame."
      ],
      "metadata": {
        "id": "-YPLOC0h5SRm"
      }
    },
    {
      "cell_type": "code",
      "source": [
        "derrame = df.filter(df.stroke == 1)"
      ],
      "metadata": {
        "id": "5veLavcz1PFv"
      },
      "execution_count": 7,
      "outputs": []
    },
    {
      "cell_type": "code",
      "source": [
        "derrame.show(2)"
      ],
      "metadata": {
        "colab": {
          "base_uri": "https://localhost:8080/"
        },
        "id": "UhpCcU72RHUU",
        "outputId": "2fcbb137-9cde-4252-dc35-bcd6d2e1c6d9"
      },
      "execution_count": 9,
      "outputs": [
        {
          "output_type": "stream",
          "name": "stdout",
          "text": [
            "+---+------+----+------------+-------------+------------+---------+--------------+-----------------+-----+--------------+------+\n",
            "|  0|gender| age|hypertension|heart_disease|ever_married|work_type|Residence_type|avg_glucose_level|  bmi|smoking_status|stroke|\n",
            "+---+------+----+------------+-------------+------------+---------+--------------+-----------------+-----+--------------+------+\n",
            "|  1|Female|18.0|           0|            0|          No|  Private|         Urban|            94.19|12.12|        smokes|     1|\n",
            "|  5|Female|82.0|           0|            0|         Yes|  Private|         Rural|            59.32| 33.2|        smokes|     1|\n",
            "+---+------+----+------------+-------------+------------+---------+--------------+-----------------+-----+--------------+------+\n",
            "only showing top 2 rows\n",
            "\n"
          ]
        }
      ]
    },
    {
      "cell_type": "code",
      "source": [
        "derrame.agg({\"avg_glucose_level\":\"avg\"}).show()"
      ],
      "metadata": {
        "colab": {
          "base_uri": "https://localhost:8080/"
        },
        "id": "O6ZPMgBgRMba",
        "outputId": "a6c7849e-5808-4282-e878-4a54cbdcb84d"
      },
      "execution_count": 17,
      "outputs": [
        {
          "output_type": "stream",
          "name": "stdout",
          "text": [
            "+----------------------+\n",
            "|avg(avg_glucose_level)|\n",
            "+----------------------+\n",
            "|    119.95307046938272|\n",
            "+----------------------+\n",
            "\n"
          ]
        }
      ]
    },
    {
      "cell_type": "code",
      "source": [
        "noderrame = df.filter(df.stroke == 0)"
      ],
      "metadata": {
        "id": "_NbJP1lTRgv9"
      },
      "execution_count": 18,
      "outputs": []
    },
    {
      "cell_type": "code",
      "source": [
        "noderrame.agg({\"avg_glucose_level\":\"avg\"}).show()"
      ],
      "metadata": {
        "colab": {
          "base_uri": "https://localhost:8080/"
        },
        "id": "evxncBnLST8q",
        "outputId": "304d9c64-57fa-413b-9461-ad668d9cdc89"
      },
      "execution_count": 19,
      "outputs": [
        {
          "output_type": "stream",
          "name": "stdout",
          "text": [
            "+----------------------+\n",
            "|avg(avg_glucose_level)|\n",
            "+----------------------+\n",
            "|    103.60273130214506|\n",
            "+----------------------+\n",
            "\n"
          ]
        }
      ]
    },
    {
      "cell_type": "markdown",
      "source": [
        "##Pergunta 10\n",
        "Qual é o BMI (IMC = índice de massa corpórea) médio de quem sofreu e não sofreu derrame?"
      ],
      "metadata": {
        "id": "GO4jGXRBSiMm"
      }
    },
    {
      "cell_type": "code",
      "source": [
        "derrame.agg({\"bmi\":\"avg\"}).show()"
      ],
      "metadata": {
        "colab": {
          "base_uri": "https://localhost:8080/"
        },
        "id": "f1J-2QKvTN5B",
        "outputId": "96518a12-6694-48cd-f3fb-22ea5756553a"
      },
      "execution_count": 21,
      "outputs": [
        {
          "output_type": "stream",
          "name": "stdout",
          "text": [
            "+------------------+\n",
            "|          avg(bmi)|\n",
            "+------------------+\n",
            "|29.942490629729495|\n",
            "+------------------+\n",
            "\n"
          ]
        }
      ]
    },
    {
      "cell_type": "code",
      "source": [
        "noderrame.agg({\"bmi\":\"avg\"}).show()"
      ],
      "metadata": {
        "colab": {
          "base_uri": "https://localhost:8080/"
        },
        "id": "mVpr892pSacX",
        "outputId": "088009b9-67fc-48b0-b458-e6d314a7638f"
      },
      "execution_count": 20,
      "outputs": [
        {
          "output_type": "stream",
          "name": "stdout",
          "text": [
            "+------------------+\n",
            "|          avg(bmi)|\n",
            "+------------------+\n",
            "|27.989678933253657|\n",
            "+------------------+\n",
            "\n"
          ]
        }
      ]
    },
    {
      "cell_type": "markdown",
      "source": [
        "##Pergunta 11\n",
        "Crie um modelo de árvore de decisão que prevê a chance de derrame (stroke) a partir das variáveis contínuas/categóricas: idade, BMI, hipertensão, doença do coração, nível médio de glicose. Use o conteúdo da segunda aula interativa para criar e avaliar o modelo.\n",
        "\n",
        " \n",
        "\n",
        "Qual a acurácia de um modelo construído?"
      ],
      "metadata": {
        "id": "WuxicIVsi41T"
      }
    },
    {
      "cell_type": "code",
      "source": [
        "from pyspark.ml.feature import VectorAssembler"
      ],
      "metadata": {
        "id": "y6m-8Q9qTY-D"
      },
      "execution_count": 2,
      "outputs": []
    },
    {
      "cell_type": "code",
      "source": [
        "assembler = VectorAssembler(inputCols=['age','bmi','hypertension','heart_disease','avg_glucose_level'], outputCol='features')"
      ],
      "metadata": {
        "id": "4SU9NWYQjKzS"
      },
      "execution_count": 15,
      "outputs": []
    },
    {
      "cell_type": "code",
      "source": [
        "from pyspark.ml.classification import DecisionTreeClassifier"
      ],
      "metadata": {
        "id": "n5vnJwQzlk8O"
      },
      "execution_count": 16,
      "outputs": []
    },
    {
      "cell_type": "code",
      "source": [
        "classifier = DecisionTreeClassifier(labelCol=\"stroke\", featuresCol=\"features\")"
      ],
      "metadata": {
        "id": "9lnQclqynDNo"
      },
      "execution_count": 17,
      "outputs": []
    },
    {
      "cell_type": "code",
      "source": [
        "from pyspark.ml import Pipeline"
      ],
      "metadata": {
        "id": "735i1QvkoDEn"
      },
      "execution_count": 18,
      "outputs": []
    },
    {
      "cell_type": "code",
      "source": [
        "pipeline = Pipeline(stages=[assembler, classifier])"
      ],
      "metadata": {
        "id": "VSKQ2PnuoULP"
      },
      "execution_count": 19,
      "outputs": []
    },
    {
      "cell_type": "code",
      "source": [
        "train_data, test_data = df.randomSplit([0.7,0.3])"
      ],
      "metadata": {
        "id": "i4-n_IkFpxTs"
      },
      "execution_count": 20,
      "outputs": []
    },
    {
      "cell_type": "code",
      "source": [
        "predictSurvivedModel = pipeline.fit(train_data)"
      ],
      "metadata": {
        "id": "Wl-uGjD4pnBy"
      },
      "execution_count": 21,
      "outputs": []
    },
    {
      "cell_type": "code",
      "source": [
        "from pyspark.ml.evaluation import MulticlassClassificationEvaluator"
      ],
      "metadata": {
        "id": "ZTef3u_52Wm1"
      },
      "execution_count": 22,
      "outputs": []
    },
    {
      "cell_type": "code",
      "source": [
        "predictions = predictSurvivedModel.transform(test_data)"
      ],
      "metadata": {
        "id": "e6DM3kIx47zI"
      },
      "execution_count": 26,
      "outputs": []
    },
    {
      "cell_type": "code",
      "source": [
        "evaluetor = MulticlassClassificationEvaluator(labelCol='stroke', predictionCol='prediction', metricName='accuracy')\n",
        "accuracy = evaluetor.evaluate(predictions)\n",
        "accuracy"
      ],
      "metadata": {
        "colab": {
          "base_uri": "https://localhost:8080/"
        },
        "id": "PKNh7gu72eBN",
        "outputId": "0f4f3f48-1613-4821-b6dd-71d9aed0839d"
      },
      "execution_count": 27,
      "outputs": [
        {
          "output_type": "execute_result",
          "data": {
            "text/plain": [
              "0.6872936887224713"
            ]
          },
          "metadata": {},
          "execution_count": 27
        }
      ]
    },
    {
      "cell_type": "markdown",
      "source": [
        "##Pergunta 12\n",
        "Adicione ao modelo as variáveis categóricas: gênero e status de fumante. Use o conteúdo da aula interativa para lidar com as variáveis categóricas.  A acurácia (qualidade) do modelo aumentou para:"
      ],
      "metadata": {
        "id": "-D_YKl7V5U-H"
      }
    },
    {
      "cell_type": "code",
      "source": [
        "from pyspark.ml.feature import StringIndexer,OneHotEncoder"
      ],
      "metadata": {
        "id": "4mPxyUH457ma"
      },
      "execution_count": 29,
      "outputs": []
    },
    {
      "cell_type": "code",
      "source": [
        "gender_indexer = StringIndexer(inputCol='gender', outputCol='gender_indexer')\n",
        "gender_encoder = OneHotEncoder(inputCol='gender_indexer', outputCol='gender_vector')"
      ],
      "metadata": {
        "id": "fcX_1jzc7THP"
      },
      "execution_count": 85,
      "outputs": []
    },
    {
      "cell_type": "code",
      "source": [
        "smoking_indexer = StringIndexer(inputCol='smoking_status', outputCol='smoking_indexer')\n",
        "smoking_encoder = OneHotEncoder(inputCol='smoking_indexer', outputCol='smoking_vector')"
      ],
      "metadata": {
        "id": "rgVugTTE87co"
      },
      "execution_count": 87,
      "outputs": []
    },
    {
      "cell_type": "code",
      "source": [
        "assembler12 = VectorAssembler(inputCols=['age','bmi','hypertension','heart_disease','avg_glucose_level','gender_vector','smoking_vector'], outputCol='features')"
      ],
      "metadata": {
        "id": "CVoHcwQq3Ps2"
      },
      "execution_count": 88,
      "outputs": []
    },
    {
      "cell_type": "code",
      "source": [
        "classifier12 = DecisionTreeClassifier(labelCol=\"stroke\", featuresCol=\"features\")"
      ],
      "metadata": {
        "id": "WO8x2-Is9XyB"
      },
      "execution_count": 89,
      "outputs": []
    },
    {
      "cell_type": "code",
      "source": [
        "pipeline12 = Pipeline(stages=[gender_indexer,gender_encoder,smoking_indexer, smoking_encoder,assembler12, classifier12])"
      ],
      "metadata": {
        "id": "C7nYVX3l9jRn"
      },
      "execution_count": 90,
      "outputs": []
    },
    {
      "cell_type": "code",
      "source": [
        "train_data12, test_data12 = df.randomSplit([0.7,0.3])"
      ],
      "metadata": {
        "id": "prm7Btlf9qJv"
      },
      "execution_count": 91,
      "outputs": []
    },
    {
      "cell_type": "code",
      "source": [
        "predictSurvivedModel12 = pipeline12.fit(train_data12)"
      ],
      "metadata": {
        "id": "iC_AhXEa9w8P"
      },
      "execution_count": 92,
      "outputs": []
    },
    {
      "cell_type": "code",
      "source": [
        "predictions12 = predictSurvivedModel12.transform(test_data12)"
      ],
      "metadata": {
        "id": "avIbcdy493pr"
      },
      "execution_count": 93,
      "outputs": []
    },
    {
      "cell_type": "code",
      "source": [
        "evaluetor12 = MulticlassClassificationEvaluator(labelCol='stroke', predictionCol='prediction12', metricName='accuracy12')\n",
        "accuracy12 = evaluetor.evaluate(predictions12)\n",
        "accuracy12"
      ],
      "metadata": {
        "colab": {
          "base_uri": "https://localhost:8080/"
        },
        "id": "VNa173qx-Bxq",
        "outputId": "3ce53f09-8a2e-4195-bcc4-c4253f2494dd"
      },
      "execution_count": 94,
      "outputs": [
        {
          "output_type": "execute_result",
          "data": {
            "text/plain": [
              "0.8378005518328735"
            ]
          },
          "metadata": {},
          "execution_count": 94
        }
      ]
    },
    {
      "cell_type": "markdown",
      "source": [
        "##Pergunta 13\n",
        "Qual dessas variáveis é mais importante no modelo de árvore de decisão que você construiu na questão (12)?\n"
      ],
      "metadata": {
        "id": "M8sdijdhDXK0"
      }
    },
    {
      "cell_type": "code",
      "source": [
        "decisionTreeModel12 = predictSurvivedModel12.stages[5]"
      ],
      "metadata": {
        "id": "WeWSQUYnElAY"
      },
      "execution_count": 144,
      "outputs": []
    },
    {
      "cell_type": "code",
      "source": [
        "list(zip(assembler12.getInputCols(), decisionTreeModel12.featureImportances))"
      ],
      "metadata": {
        "colab": {
          "base_uri": "https://localhost:8080/"
        },
        "id": "HN1m7ABU-Olo",
        "outputId": "52c3cd86-5f8f-4ad3-ba7d-077303244614"
      },
      "execution_count": 145,
      "outputs": [
        {
          "output_type": "execute_result",
          "data": {
            "text/plain": [
              "[('age', 0.1688569746903108),\n",
              " ('bmi', 0.00016147567907665708),\n",
              " ('hypertension', 0.0),\n",
              " ('heart_disease', 0.0),\n",
              " ('avg_glucose_level', 0.00843132209651314),\n",
              " ('gender_vector', 0.0),\n",
              " ('smoking_vector', 0.0)]"
            ]
          },
          "metadata": {},
          "execution_count": 145
        }
      ]
    },
    {
      "cell_type": "markdown",
      "source": [
        "##Pergunta 14\n",
        "Qual a profundidade da árvore de decisão da questão (12)?"
      ],
      "metadata": {
        "id": "w23i0_NwGfIE"
      }
    },
    {
      "cell_type": "code",
      "source": [
        "decisionTreeModel12.depth"
      ],
      "metadata": {
        "colab": {
          "base_uri": "https://localhost:8080/"
        },
        "id": "YgvJLcCYFUF-",
        "outputId": "dad84851-899f-43dd-8511-14b5fafdaf80"
      },
      "execution_count": 108,
      "outputs": [
        {
          "output_type": "execute_result",
          "data": {
            "text/plain": [
              "5"
            ]
          },
          "metadata": {},
          "execution_count": 108
        }
      ]
    },
    {
      "cell_type": "markdown",
      "source": [
        "##Pergunta 15\n",
        "Quantos nodos a árvore de decisão possui?"
      ],
      "metadata": {
        "id": "gd_u5ynxGu1f"
      }
    },
    {
      "cell_type": "code",
      "source": [
        "assembler12.getInputCols()"
      ],
      "metadata": {
        "colab": {
          "base_uri": "https://localhost:8080/"
        },
        "id": "8DO6q5AYGnFC",
        "outputId": "c228d825-2fcd-41e0-aead-3f287bf5b8cc"
      },
      "execution_count": 109,
      "outputs": [
        {
          "output_type": "execute_result",
          "data": {
            "text/plain": [
              "['age',\n",
              " 'bmi',\n",
              " 'hypertension',\n",
              " 'heart_disease',\n",
              " 'avg_glucose_level',\n",
              " 'gender_vector',\n",
              " 'smoking_vector']"
            ]
          },
          "metadata": {},
          "execution_count": 109
        }
      ]
    },
    {
      "cell_type": "markdown",
      "source": [
        "##Salvando a base"
      ],
      "metadata": {
        "id": "ZdgwEDxKHfg2"
      }
    },
    {
      "cell_type": "code",
      "source": [
        "basePath = \"C:/Users/ana.santos/Documents/MBA/Ciencias_Dados/Mod 2\"\n",
        "decisionTreeModel12.write().overwrite().save(basePath + \"/model\")"
      ],
      "metadata": {
        "id": "m_9ZICSnHidB"
      },
      "execution_count": null,
      "outputs": []
    }
  ]
}